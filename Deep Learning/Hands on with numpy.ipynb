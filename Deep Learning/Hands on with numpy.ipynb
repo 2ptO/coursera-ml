{
 "cells": [
  {
   "cell_type": "markdown",
   "metadata": {},
   "source": [
    "Trying my hands on with numpy for the first time. So I'm going to go through some basics in preparation for the programming assignments. I will try to keep this updated with more hands on of numpy and related packages as I go further.\n",
    "\n",
    "Import the package first!"
   ]
  },
  {
   "cell_type": "code",
   "execution_count": 16,
   "metadata": {},
   "outputs": [],
   "source": [
    "import numpy as np"
   ]
  },
  {
   "cell_type": "markdown",
   "metadata": {},
   "source": [
    "Arrays are very basic construct within numpy. Here is how to define one."
   ]
  },
  {
   "cell_type": "code",
   "execution_count": 19,
   "metadata": {},
   "outputs": [
    {
     "name": "stdout",
     "output_type": "stream",
     "text": [
      "[1 2 3 4]\n",
      "Shape of the array is:  (4,)\n"
     ]
    }
   ],
   "source": [
    "arr = np.array([1, 2, 3, 4])\n",
    "print(arr)\n",
    "print(\"Shape of the array is: \", arr.shape)"
   ]
  },
  {
   "cell_type": "markdown",
   "metadata": {},
   "source": [
    "Shape of the array is nothing but the dimension of the array. We get that by accessing the `shape` value of the array. The list `[1, 2, 3, 4]` might look like a 1-dimensional vector with a dimension of 1x4. But it is not. Lists like `[1, 2, 3 ,4]` are not considered vectors. We rarely deal with this type of array while working on the problems."
   ]
  },
  {
   "cell_type": "code",
   "execution_count": 25,
   "metadata": {},
   "outputs": [
    {
     "name": "stdout",
     "output_type": "stream",
     "text": [
      "Shape of 2D array: (2, 3)\n",
      "Shape of 3-D array: (3, 3, 3)\n"
     ]
    }
   ],
   "source": [
    "# This is a 2-D array\n",
    "arr2d = np.array([[1, 2, 3], [4, 5, 6]])\n",
    "print(\"Shape of 2D array:\", arr2d.shape)\n",
    "\n",
    "# A 3-D array. This kind of array is often used in image processing\n",
    "# Each pixel containing three 3 8-bit values for Red, Green and Blue\n",
    "arr3d = np.array([[[0x1a, 0x1b, 0x1c], [0x1d, 0x1e, 0x1f], [0x11, 0x12, 0x13]],\n",
    "                 [[0x2a, 0x2b, 0x2c], [0x2d, 0x2e, 0x2f], [0x21, 0x22, 0x23]],\n",
    "                 [[0x3a, 0x3b, 0x3c], [0x2d, 0x2e, 0x2f], [0x31, 0x32, 0x33]]])\n",
    "\n",
    "print(\"Shape of 3-D array:\", arr3d.shape)"
   ]
  },
  {
   "cell_type": "markdown",
   "metadata": {},
   "source": [
    "Lets try some built-in functions to create numpy arrays...Keeping the [numpy docs](https://docs.scipy.org/doc/numpy-1.10.1/genindex.html) handy for quick reference."
   ]
  },
  {
   "cell_type": "code",
   "execution_count": 54,
   "metadata": {},
   "outputs": [
    {
     "name": "stdout",
     "output_type": "stream",
     "text": [
      "\n",
      "====Zeros====\n",
      "[[0. 0. 0.]\n",
      " [0. 0. 0.]\n",
      " [0. 0. 0.]\n",
      " [0. 0. 0.]]\n",
      "Type:<class 'numpy.ndarray'>, Shape:(4, 3), value type:float64\n",
      "\n",
      "====Ones====\n",
      "[1 1 1] (3,) int64\n",
      "\n",
      "====Identity matrix====\n",
      "[[1. 0. 0.]\n",
      " [0. 1. 0.]\n",
      " [0. 0. 1.]]\n",
      "\n",
      "====Identity matrix using eye====\n",
      "[[1 0]\n",
      " [0 1]\n",
      " [0 0]]\n",
      "\n",
      "====Random matrices====\n",
      "Uniform distribution\n",
      "[[0.21216697 0.10413436 0.458502  ]\n",
      " [0.42438921 0.59061434 0.24831119]\n",
      " [0.15178391 0.50220867 0.83642531]\n",
      " [0.62141571 0.77486848 0.66162555]]\n",
      "\n",
      "Random Ints\n",
      "[[0 6]\n",
      " [4 5]\n",
      " [6 1]]\n"
     ]
    }
   ],
   "source": [
    "# np.zeros takes three parameters: shape, dtype, order.\n",
    "# Datatype defaults to float and order defaults to C-style. \n",
    "\n",
    "# this creates a 4x3 matrix filled with 0.0\n",
    "zeros = np.zeros((4, 3))\n",
    "\n",
    "print(\"\\n====Zeros====\")\n",
    "print(zeros)\n",
    "print(\"Type:{}, Shape:{}, value type:{}\".format(type(zeros), zeros.shape, zeros.dtype))\n",
    "\n",
    "print(\"\\n====Ones====\")\n",
    "ones = np.ones(3, dtype=np.int)\n",
    "anotherOnes1D = np.ones((3,), dtype=int) # Same as above, but uses int instead of np.int\n",
    "\n",
    "print(ones, ones.shape, ones.dtype)\n",
    "\n",
    "print(\"\\n====Identity matrix====\")\n",
    "# np.identity returns a nxn identity matrix.\n",
    "# Like most np calls, we can specify the dtype here as well.\n",
    "iden = np.identity(3)\n",
    "print(iden)\n",
    "\n",
    "print(\"\\n====Identity matrix using eye====\")\n",
    "# This is advanced version of np.identity\n",
    "# lets us control the shape as well as the diagonal\n",
    "# axis to start setting 1s.\n",
    "eye = np.eye(3, 2, dtype=int)\n",
    "print(eye)\n",
    "\n",
    "print(\"\\n====Random matrices====\")\n",
    "# takes a variable length argument list for the dimensions\n",
    "# fills the output array with values from the uniform\n",
    "# distribution between 0..1\n",
    "randArray = np.random.rand(4, 3)\n",
    "print(\"Uniform distribution\")\n",
    "print(randArray)\n",
    "\n",
    "# randint takes the lower and upper limits for the random int\n",
    "# and size of the array\n",
    "randIntArray = np.random.randint(10, size=(3, 2))\n",
    "print(\"\\nRandom Ints\")\n",
    "print(randIntArray)"
   ]
  },
  {
   "cell_type": "markdown",
   "metadata": {},
   "source": [
    "Now lets try simple operations on the numpy objects. "
   ]
  },
  {
   "cell_type": "code",
   "execution_count": 63,
   "metadata": {},
   "outputs": [
    {
     "name": "stdout",
     "output_type": "stream",
     "text": [
      "Data:\n",
      " [[6 1 4 9]\n",
      " [8 9 2 1]\n",
      " [8 4 9 7]]\n",
      "Data transpose:\n",
      " [[6 8 8]\n",
      " [1 9 4]\n",
      " [4 2 9]\n",
      " [9 1 7]]\n"
     ]
    }
   ],
   "source": [
    "# transpose a matrix\n",
    "data = np.random.randint(10, size=(3, 4))\n",
    "\n",
    "print(\"Data:\\n\", data)\n",
    "print(\"Data transpose:\\n\", data.T)"
   ]
  },
  {
   "cell_type": "markdown",
   "metadata": {},
   "source": [
    "Reshaping is another frequently performed operation across all machine learning problems. An example use case is image processing. Consider the image with resolution 32x32 px. It is digitally represented as 32x32x3 matrix (32x32 by of RGB values). It is often reshaped into one dimension array of 32\\*32\\*3x1 for faster access and easier handling."
   ]
  },
  {
   "cell_type": "code",
   "execution_count": 64,
   "metadata": {},
   "outputs": [
    {
     "name": "stdout",
     "output_type": "stream",
     "text": [
      "Data:\n",
      "[[6 1 4 9]\n",
      " [8 9 2 1]\n",
      " [8 4 9 7]]\n",
      "\n",
      "Reshaped data:\n",
      "[[6 1 4]\n",
      " [9 8 9]\n",
      " [2 1 8]\n",
      " [4 9 7]]\n",
      "\n",
      "Reshaping again:\n",
      "[[6 1 4 9 8 9 2 1 8 4 9 7]]\n",
      "\n",
      "Reshaping again:\n",
      "[[6 1 4 9 8 9]\n",
      " [2 1 8 4 9 7]]\n"
     ]
    }
   ],
   "source": [
    "print(\"Data:\")\n",
    "print(data)\n",
    "print(\"\\nReshaped data:\")\n",
    "print(data.reshape((4, 3)))\n",
    "print(\"\\nReshaping again:\")\n",
    "print(data.reshape((1,12)))\n",
    "print(\"\\nReshaping again:\")\n",
    "print(data.reshape(1, 12).reshape(2, 6))"
   ]
  },
  {
   "cell_type": "code",
   "execution_count": 65,
   "metadata": {},
   "outputs": [
    {
     "data": {
      "text/html": [
       "<style>\n",
       "    table {\n",
       "        display: inline-block\n",
       "    }\n",
       "</style>"
      ],
      "text/plain": [
       "<IPython.core.display.HTML object>"
      ]
     },
     "metadata": {},
     "output_type": "display_data"
    }
   ],
   "source": [
    "%%html\n",
    "<style>\n",
    "    table {\n",
    "        display: inline-block\n",
    "    }\n",
    "</style>"
   ]
  },
  {
   "cell_type": "markdown",
   "metadata": {},
   "source": [
    "Trying out some math operations on the numpy arrays as we will often need to solve equations in building a machine learning models. Numpy has equivalent math functions for almost all of the math operations that python natively supports.\n",
    "\n",
    "Here are some examples:\n",
    "\n",
    "| Operation | Numpy equivalent |\n",
    "|------------|------------------|\n",
    "|a = b + c  | a = np.add(b, c) |\n",
    "|a = b - c  | a = np.subtract(b, c)|\n",
    "|a = b * c  | a = np.multiply(b, c) |\n",
    "|a = sum(nums) | a = np.sum(nums) |\n",
    "|a = max(nums) | a = np.max(nums) |\n",
    "|matrix multiply | a = np.dot(b, c)|\n",
    "\n",
    "The numpy equivalents are highly optimized to vectorize the operations that runs much much faster than if the operation was implemented with for loop."
   ]
  }
 ],
 "metadata": {
  "kernelspec": {
   "display_name": "Python 3",
   "language": "python",
   "name": "python3"
  },
  "language_info": {
   "codemirror_mode": {
    "name": "ipython",
    "version": 3
   },
   "file_extension": ".py",
   "mimetype": "text/x-python",
   "name": "python",
   "nbconvert_exporter": "python",
   "pygments_lexer": "ipython3",
   "version": "3.6.4"
  }
 },
 "nbformat": 4,
 "nbformat_minor": 2
}
