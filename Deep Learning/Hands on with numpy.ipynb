{
 "cells": [
  {
   "cell_type": "markdown",
   "metadata": {},
   "source": [
    "Trying my hands on with numpy for the first time. So I'm going to go through some basics in preparation for the programming assignments. I will try to keep this updated with more hands on of numpy and related packages as I go further.\n",
    "\n",
    "Import the package first!"
   ]
  },
  {
   "cell_type": "code",
   "execution_count": 16,
   "metadata": {},
   "outputs": [],
   "source": [
    "import numpy as np"
   ]
  },
  {
   "cell_type": "markdown",
   "metadata": {},
   "source": [
    "Arrays are very basic construct within numpy. Here is how to define one."
   ]
  },
  {
   "cell_type": "code",
   "execution_count": 19,
   "metadata": {},
   "outputs": [
    {
     "name": "stdout",
     "output_type": "stream",
     "text": [
      "[1 2 3 4]\n",
      "Shape of the array is:  (4,)\n"
     ]
    }
   ],
   "source": [
    "arr = np.array([1, 2, 3, 4])\n",
    "print(arr)\n",
    "print(\"Shape of the array is: \", arr.shape)"
   ]
  },
  {
   "cell_type": "markdown",
   "metadata": {},
   "source": [
    "Shape of the array is nothing but the dimension of the array. We get that by accessing the `shape` value of the array. The list `[1, 2, 3, 4]` might look like a 1-dimensional vector with a dimension of 1x4. But it is not. Lists like `[1, 2, 3 ,4]` are not considered vectors. We rarely deal with this type of array while working on the problems."
   ]
  },
  {
   "cell_type": "code",
   "execution_count": 25,
   "metadata": {},
   "outputs": [
    {
     "name": "stdout",
     "output_type": "stream",
     "text": [
      "Shape of 2D array: (2, 3)\n",
      "Shape of 3-D array: (3, 3, 3)\n"
     ]
    }
   ],
   "source": [
    "# This is a 2-D array\n",
    "arr2d = np.array([[1, 2, 3], [4, 5, 6]])\n",
    "print(\"Shape of 2D array:\", arr2d.shape)\n",
    "\n",
    "# A 3-D array. This kind of array is often used in image processing\n",
    "# Each pixel containing three 3 8-bit values for Red, Green and Blue\n",
    "arr3d = np.array([[[0x1a, 0x1b, 0x1c], [0x1d, 0x1e, 0x1f], [0x11, 0x12, 0x13]],\n",
    "                 [[0x2a, 0x2b, 0x2c], [0x2d, 0x2e, 0x2f], [0x21, 0x22, 0x23]],\n",
    "                 [[0x3a, 0x3b, 0x3c], [0x2d, 0x2e, 0x2f], [0x31, 0x32, 0x33]]])\n",
    "\n",
    "print(\"Shape of 3-D array:\", arr3d.shape)"
   ]
  },
  {
   "cell_type": "markdown",
   "metadata": {},
   "source": [
    "Lets try some built-in functions to create numpy arrays...Keeping the [numpy docs](https://docs.scipy.org/doc/numpy-1.10.1/genindex.html) handy for quick reference."
   ]
  },
  {
   "cell_type": "code",
   "execution_count": 54,
   "metadata": {},
   "outputs": [
    {
     "name": "stdout",
     "output_type": "stream",
     "text": [
      "\n",
      "====Zeros====\n",
      "[[0. 0. 0.]\n",
      " [0. 0. 0.]\n",
      " [0. 0. 0.]\n",
      " [0. 0. 0.]]\n",
      "Type:<class 'numpy.ndarray'>, Shape:(4, 3), value type:float64\n",
      "\n",
      "====Ones====\n",
      "[1 1 1] (3,) int64\n",
      "\n",
      "====Identity matrix====\n",
      "[[1. 0. 0.]\n",
      " [0. 1. 0.]\n",
      " [0. 0. 1.]]\n",
      "\n",
      "====Identity matrix using eye====\n",
      "[[1 0]\n",
      " [0 1]\n",
      " [0 0]]\n",
      "\n",
      "====Random matrices====\n",
      "Uniform distribution\n",
      "[[0.21216697 0.10413436 0.458502  ]\n",
      " [0.42438921 0.59061434 0.24831119]\n",
      " [0.15178391 0.50220867 0.83642531]\n",
      " [0.62141571 0.77486848 0.66162555]]\n",
      "\n",
      "Random Ints\n",
      "[[0 6]\n",
      " [4 5]\n",
      " [6 1]]\n"
     ]
    }
   ],
   "source": [
    "# np.zeros takes three parameters: shape, dtype, order.\n",
    "# Datatype defaults to float and order defaults to C-style. \n",
    "\n",
    "# this creates a 4x3 matrix filled with 0.0\n",
    "zeros = np.zeros((4, 3))\n",
    "\n",
    "print(\"\\n====Zeros====\")\n",
    "print(zeros)\n",
    "print(\"Type:{}, Shape:{}, value type:{}\".format(type(zeros), zeros.shape, zeros.dtype))\n",
    "\n",
    "print(\"\\n====Ones====\")\n",
    "ones = np.ones(3, dtype=np.int)\n",
    "anotherOnes1D = np.ones((3,), dtype=int) # Same as above, but uses int instead of np.int\n",
    "\n",
    "print(ones, ones.shape, ones.dtype)\n",
    "\n",
    "print(\"\\n====Identity matrix====\")\n",
    "# np.identity returns a nxn identity matrix.\n",
    "# Like most np calls, we can specify the dtype here as well.\n",
    "iden = np.identity(3)\n",
    "print(iden)\n",
    "\n",
    "print(\"\\n====Identity matrix using eye====\")\n",
    "# This is advanced version of np.identity\n",
    "# lets us control the shape as well as the diagonal\n",
    "# axis to start setting 1s.\n",
    "eye = np.eye(3, 2, dtype=int)\n",
    "print(eye)\n",
    "\n",
    "print(\"\\n====Random matrices====\")\n",
    "# takes a variable length argument list for the dimensions\n",
    "# fills the output array with values from the uniform\n",
    "# distribution between 0..1\n",
    "randArray = np.random.rand(4, 3)\n",
    "print(\"Uniform distribution\")\n",
    "print(randArray)\n",
    "\n",
    "# randint takes the lower and upper limits for the random int\n",
    "# and size of the array\n",
    "randIntArray = np.random.randint(10, size=(3, 2))\n",
    "print(\"\\nRandom Ints\")\n",
    "print(randIntArray)"
   ]
  },
  {
   "cell_type": "markdown",
   "metadata": {},
   "source": [
    "Now lets try simple operations on the numpy objects. "
   ]
  },
  {
   "cell_type": "code",
   "execution_count": 63,
   "metadata": {},
   "outputs": [
    {
     "name": "stdout",
     "output_type": "stream",
     "text": [
      "Data:\n",
      " [[6 1 4 9]\n",
      " [8 9 2 1]\n",
      " [8 4 9 7]]\n",
      "Data transpose:\n",
      " [[6 8 8]\n",
      " [1 9 4]\n",
      " [4 2 9]\n",
      " [9 1 7]]\n"
     ]
    }
   ],
   "source": [
    "# transpose a matrix\n",
    "data = np.random.randint(10, size=(3, 4))\n",
    "\n",
    "print(\"Data:\\n\", data)\n",
    "print(\"Data transpose:\\n\", data.T)"
   ]
  },
  {
   "cell_type": "markdown",
   "metadata": {},
   "source": [
    "Reshaping is another frequently performed operation across all machine learning problems. An example use case is image processing. Consider the image with resolution 32x32 px. It is digitally represented as 32x32x3 matrix (32x32 by of RGB values). It is often reshaped into one dimension array of 32\\*32\\*3x1 for faster access and easier handling."
   ]
  },
  {
   "cell_type": "code",
   "execution_count": 64,
   "metadata": {},
   "outputs": [
    {
     "name": "stdout",
     "output_type": "stream",
     "text": [
      "Data:\n",
      "[[6 1 4 9]\n",
      " [8 9 2 1]\n",
      " [8 4 9 7]]\n",
      "\n",
      "Reshaped data:\n",
      "[[6 1 4]\n",
      " [9 8 9]\n",
      " [2 1 8]\n",
      " [4 9 7]]\n",
      "\n",
      "Reshaping again:\n",
      "[[6 1 4 9 8 9 2 1 8 4 9 7]]\n",
      "\n",
      "Reshaping again:\n",
      "[[6 1 4 9 8 9]\n",
      " [2 1 8 4 9 7]]\n"
     ]
    }
   ],
   "source": [
    "print(\"Data:\")\n",
    "print(data)\n",
    "print(\"\\nReshaped data:\")\n",
    "print(data.reshape((4, 3)))\n",
    "print(\"\\nReshaping again:\")\n",
    "print(data.reshape((1,12)))\n",
    "print(\"\\nReshaping again:\")\n",
    "print(data.reshape(1, 12).reshape(2, 6))"
   ]
  },
  {
   "cell_type": "code",
   "execution_count": 65,
   "metadata": {},
   "outputs": [
    {
     "data": {
      "text/html": [
       "<style>\n",
       "    table {\n",
       "        display: inline-block\n",
       "    }\n",
       "</style>"
      ],
      "text/plain": [
       "<IPython.core.display.HTML object>"
      ]
     },
     "metadata": {},
     "output_type": "display_data"
    }
   ],
   "source": [
    "%%html\n",
    "<style>\n",
    "    table {\n",
    "        display: inline-block\n",
    "    }\n",
    "</style>"
   ]
  },
  {
   "cell_type": "markdown",
   "metadata": {},
   "source": [
    "Trying out some math operations on the numpy arrays as we will often need to solve equations in building a machine learning models. Numpy has equivalent math functions for almost all of the math operations that python natively supports.\n",
    "\n",
    "Here are some examples:\n",
    "\n",
    "| Operation | Numpy equivalent |\n",
    "|------------|------------------|\n",
    "|c = a + b  | c = np.add(a, b) |\n",
    "|c = a - b  | c = np.subtract(a, b)|\n",
    "|c = a * b  | c = np.multiply(a, b) |\n",
    "|c = sum(nums) | c = np.sum(nums) |\n",
    "|c = max(nums) | c = np.max(nums) |\n",
    "|matrix multiply | c = np.dot(a, b)|\n",
    "\n",
    "The numpy equivalents are highly optimized to vectorize the operations that runs much much faster than if the operation was implemented with for loop."
   ]
  },
  {
   "cell_type": "code",
   "execution_count": 107,
   "metadata": {},
   "outputs": [
    {
     "name": "stdout",
     "output_type": "stream",
     "text": [
      "a: [[5 5 7]\n",
      " [4 4 6]\n",
      " [0 6 8]\n",
      " [0 4 5]]\n",
      "b: [[1 6 2]\n",
      " [9 6 2]\n",
      " [1 1 2]\n",
      " [6 3 1]]\n",
      "\n",
      "Adding a, b\n",
      "[[ 6 11  9]\n",
      " [13 10  8]\n",
      " [ 1  7 10]\n",
      " [ 6  7  6]]\n",
      "\n",
      "Subtracting a, b\n",
      "[[ 4 -1  5]\n",
      " [-5 -2  4]\n",
      " [-1  5  6]\n",
      " [-6  1  4]]\n",
      "\n",
      "Multiply a, b, element wise\n",
      "[[ 5 30 14]\n",
      " [36 24 12]\n",
      " [ 0  6 16]\n",
      " [ 0 12  5]]\n",
      "\n",
      "Matrix multiplication of a,b after reshaping\n",
      "[[49 82 36 57]\n",
      " [40 68 30 46]\n",
      " [52 60 30 14]\n",
      " [34 38 19  9]]\n",
      "\n",
      "Exponent\n",
      "[[1.48413159e+02 1.48413159e+02 1.09663316e+03]\n",
      " [5.45981500e+01 5.45981500e+01 4.03428793e+02]\n",
      " [1.00000000e+00 4.03428793e+02 2.98095799e+03]\n",
      " [1.00000000e+00 5.45981500e+01 1.48413159e+02]]\n"
     ]
    }
   ],
   "source": [
    "a = np.random.randint(10, size=(4, 3))\n",
    "b = np.random.randint(10, size=(4, 3))\n",
    "\n",
    "print('a:', a)\n",
    "print('b:', b)\n",
    "\n",
    "c = a + b # equivalent to calling np.add(a, b)\n",
    "print(\"\\nAdding a, b\")\n",
    "print(c)\n",
    "\n",
    "print(\"\\nSubtracting a, b\")\n",
    "c = a - b # equivalent to calling np.subtract(a, b)\n",
    "print(c)\n",
    "\n",
    "print(\"\\nMultiply a, b, element wise\")\n",
    "c = a * b # equivalent to calling np.multiply(a, b)\n",
    "print(c)\n",
    "\n",
    "print(\"\\nMatrix multiplication of a,b after reshaping\")\n",
    "# a is of shape (4, 3) and b is also of shape (4, 3). \n",
    "# we cannot take dot product if the inner dimensions don't match.\n",
    "# Reshape to the rescue\n",
    "c = np.dot(a, b.reshape(3, 4))\n",
    "print(c)\n",
    "\n",
    "print(\"\\nExponent\")\n",
    "c = np.exp(a) # raises each element in the input by e\n",
    "print(c)"
   ]
  },
  {
   "cell_type": "markdown",
   "metadata": {},
   "source": [
    "When the dimensions(shape) of the input matrices don't match, python automatically broadcasts the data where needed and applicable. Broadcasting and reshaping are widely used. Lets see some examples of broadcasting"
   ]
  },
  {
   "cell_type": "code",
   "execution_count": 108,
   "metadata": {},
   "outputs": [
    {
     "name": "stdout",
     "output_type": "stream",
     "text": [
      "a:\n",
      " [[6 7 1]\n",
      " [7 2 7]\n",
      " [5 1 0]\n",
      " [4 1 9]]\n",
      "b:\n",
      " [[0]\n",
      " [6]\n",
      " [1]\n",
      " [8]]\n",
      "a+b:\n",
      " [[ 6  7  1]\n",
      " [13  8 13]\n",
      " [ 6  2  1]\n",
      " [12  9 17]]\n"
     ]
    }
   ],
   "source": [
    "a = np.random.randint(10, size = (4, 3))\n",
    "b = np.random.randint(10, size = (4, 1))\n",
    "\n",
    "print(\"a:\\n\", a)\n",
    "print(\"b:\\n\", b)\n",
    "# a is of shape (4, 3) and b is of shape (4, 1). Adding them\n",
    "# together will cause python automatically broadcast the data\n",
    "# in b to match the dimension of a and then perform the addition.\n",
    "print(\"a+b:\\n\", a + b)"
   ]
  },
  {
   "cell_type": "markdown",
   "metadata": {},
   "source": [
    "If the operand cannot be broadcasted, python will throw a ValueError. "
   ]
  },
  {
   "cell_type": "code",
   "execution_count": 109,
   "metadata": {},
   "outputs": [
    {
     "ename": "ValueError",
     "evalue": "operands could not be broadcast together with shapes (4,3) (2,2) ",
     "output_type": "error",
     "traceback": [
      "\u001b[0;31m---------------------------------------------------------------------------\u001b[0m",
      "\u001b[0;31mValueError\u001b[0m                                Traceback (most recent call last)",
      "\u001b[0;32m<ipython-input-109-578dc8c65f52>\u001b[0m in \u001b[0;36m<module>\u001b[0;34m()\u001b[0m\n\u001b[1;32m      1\u001b[0m \u001b[0mc\u001b[0m \u001b[0;34m=\u001b[0m \u001b[0mb\u001b[0m\u001b[0;34m.\u001b[0m\u001b[0mreshape\u001b[0m\u001b[0;34m(\u001b[0m\u001b[0;36m2\u001b[0m\u001b[0;34m,\u001b[0m \u001b[0;36m2\u001b[0m\u001b[0;34m)\u001b[0m\u001b[0;34m\u001b[0m\u001b[0m\n\u001b[0;32m----> 2\u001b[0;31m \u001b[0mprint\u001b[0m\u001b[0;34m(\u001b[0m\u001b[0;34m\"a+c:\\n\"\u001b[0m\u001b[0;34m,\u001b[0m \u001b[0ma\u001b[0m \u001b[0;34m+\u001b[0m \u001b[0mc\u001b[0m\u001b[0;34m)\u001b[0m\u001b[0;34m\u001b[0m\u001b[0m\n\u001b[0m",
      "\u001b[0;31mValueError\u001b[0m: operands could not be broadcast together with shapes (4,3) (2,2) "
     ]
    }
   ],
   "source": [
    "c = b.reshape(2, 2)\n",
    "print(\"a+c:\\n\", a + c)"
   ]
  },
  {
   "cell_type": "markdown",
   "metadata": {},
   "source": [
    "When dealing with large data sets, vectorized processing of the data makes a huge difference in the computation time. The vectorized implementation makes use of SIMD processing capability of CPU and GPUs heavily. Here is a small snippet to show the difference between for-loop based computation and vectorized implementation of the same computation"
   ]
  },
  {
   "cell_type": "code",
   "execution_count": 102,
   "metadata": {},
   "outputs": [
    {
     "name": "stdout",
     "output_type": "stream",
     "text": [
      "Adding a and b using for-loop\n",
      "Time taken:457.3659896850586ms\n",
      "\n",
      "Adding a and b using vectorized function\n",
      "Time taken:4.012107849121094ms\n",
      "\n",
      "Summing 'a' using for loop\n",
      "Calculated sum = 499596.61660891515, time taken = 91.26925468444824ms\n",
      "\n",
      "Summing 'a' using vectorized function\n",
      "Calculated sum = 499596.6166089125, time taken = 0.827789306640625ms\n"
     ]
    }
   ],
   "source": [
    "import time\n",
    "\n",
    "a = np.random.rand(1000000) # np.array of 1M entries\n",
    "b = np.random.rand(1000000) \n",
    "c = np.empty(1000000) # to store the sum\n",
    "\n",
    "print(\"Adding a and b using for-loop\")\n",
    "start = time.time()\n",
    "\n",
    "for i in range(len(a)):\n",
    "    c[i] = a[i] + b[i]\n",
    "    \n",
    "end = time.time()\n",
    "\n",
    "print(\"Time taken:{}ms\".format((end - start)*1000))\n",
    "\n",
    "print(\"\\nAdding a and b using vectorized function\")\n",
    "start = time.time()\n",
    "c = np.add(a, b)\n",
    "end = time.time()\n",
    "print(\"Time taken:{}ms\".format((end - start)*1000))\n",
    "\n",
    "\n",
    "print(\"\\nSumming 'a' using for loop\")\n",
    "start = time.time()\n",
    "sumA = sum(a)\n",
    "end = time.time()\n",
    "print(\"Calculated sum = {}, time taken = {}ms\".format(sumA, (end - start)*1000))\n",
    "\n",
    "print(\"\\nSumming 'a' using vectorized function\")\n",
    "start = time.time()\n",
    "sumA = np.sum(a)\n",
    "end = time.time()\n",
    "print(\"Calculated sum = {}, time taken = {}ms\".format(sumA, (end - start)*1000))"
   ]
  },
  {
   "cell_type": "markdown",
   "metadata": {},
   "source": [
    "As seen in the above output, the vectorized is way faster than the for-loop iterations. Almost 100 times faster."
   ]
  },
  {
   "cell_type": "markdown",
   "metadata": {},
   "source": [
    "References:\n",
    "* [Numpy Docs](https://docs.scipy.org/doc/numpy-1.10.1/genindex.html)"
   ]
  }
 ],
 "metadata": {
  "kernelspec": {
   "display_name": "Python 3",
   "language": "python",
   "name": "python3"
  },
  "language_info": {
   "codemirror_mode": {
    "name": "ipython",
    "version": 3
   },
   "file_extension": ".py",
   "mimetype": "text/x-python",
   "name": "python",
   "nbconvert_exporter": "python",
   "pygments_lexer": "ipython3",
   "version": "3.6.4"
  }
 },
 "nbformat": 4,
 "nbformat_minor": 2
}
